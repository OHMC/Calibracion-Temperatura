{
 "cells": [
  {
   "cell_type": "code",
   "execution_count": 2,
   "metadata": {},
   "outputs": [],
   "source": [
    "import sys\n",
    "sys.path.append(\"/home/sagus/Development/Calibracion-Temperatura/src\")"
   ]
  },
  {
   "cell_type": "code",
   "execution_count": 3,
   "metadata": {},
   "outputs": [],
   "source": [
    "import pandas as pd\n",
    "import numpy as np\n",
    "import matplotlib.pyplot as plt\n",
    "from datetime import timedelta  "
   ]
  },
  {
   "cell_type": "code",
   "execution_count": 24,
   "metadata": {},
   "outputs": [],
   "source": [
    "def fromCSVtoDF(csvpath):\n",
    "    \"\"\" Obtirene un path a un csv de una AWS\n",
    "    y lo convierte en un df con su valores en float\n",
    "    \"\"\"\n",
    "    try:\n",
    "        csv_data = pd.read_csv(csvpath)\n",
    "    except IOError:\n",
    "        print(\"Error: File does not appear to exist.\")\n",
    "\n",
    "    dfData = pd.DataFrame(dtype=float)\n",
    "    dfData['date'] = pd.to_datetime((csv_data['FECHA'] + ' ' + csv_data['HORA']), format='%d/%m/%Y %H:%M')\n",
    "    dfData['Estacion'] = csv_data['ESTACION']\n",
    "    # dfData['ppn'] = csv_data['Registro de Lluvia [mm]']\n",
    "    dfData['Temp'] = csv_data['TEMPERATURA']\n",
    "    # dfData['Temp'][dfData['Temp'] == '---'] = np.nan\n",
    "    dfData.loc[dfData['Temp'] == '---'] = np.nan\n",
    "    dfData['Temp'] = dfData['Temp'].astype(float)\n",
    "\n",
    "    return dfData.set_index('date')"
   ]
  },
  {
   "cell_type": "code",
   "execution_count": 25,
   "metadata": {},
   "outputs": [],
   "source": [
    "base = '/home/sagus/Descargas/'\n",
    "filename2019 = 'Temperaturas Historico_2019.csv'\n",
    "filename2020 = 'Temperaturas Historico_2020.csv'\n",
    "path2019 = f\"{base}{filename2019}\"\n",
    "path2020 = f\"{base}{filename2020}\"\n",
    "epec_2019 = fromCSVtoDF(path2019)\n",
    "epec_2020 = fromCSVtoDF(path2020)"
   ]
  },
  {
   "cell_type": "code",
   "execution_count": 32,
   "metadata": {},
   "outputs": [],
   "source": [
    "epecAWS = epec_2019.append(epec_2020, sort=False)"
   ]
  },
  {
   "cell_type": "code",
   "execution_count": 33,
   "metadata": {},
   "outputs": [
    {
     "data": {
      "text/html": [
       "<div>\n",
       "<style scoped>\n",
       "    .dataframe tbody tr th:only-of-type {\n",
       "        vertical-align: middle;\n",
       "    }\n",
       "\n",
       "    .dataframe tbody tr th {\n",
       "        vertical-align: top;\n",
       "    }\n",
       "\n",
       "    .dataframe thead th {\n",
       "        text-align: right;\n",
       "    }\n",
       "</style>\n",
       "<table border=\"1\" class=\"dataframe\">\n",
       "  <thead>\n",
       "    <tr style=\"text-align: right;\">\n",
       "      <th></th>\n",
       "      <th>Estacion</th>\n",
       "      <th>Temp</th>\n",
       "    </tr>\n",
       "    <tr>\n",
       "      <th>date</th>\n",
       "      <th></th>\n",
       "      <th></th>\n",
       "    </tr>\n",
       "  </thead>\n",
       "  <tbody>\n",
       "    <tr>\n",
       "      <th>2019-01-01 00:00:00</th>\n",
       "      <td>CORDOBA</td>\n",
       "      <td>23.7</td>\n",
       "    </tr>\n",
       "    <tr>\n",
       "      <th>2019-01-01 00:00:00</th>\n",
       "      <td>CORDOBA OBS</td>\n",
       "      <td>26.8</td>\n",
       "    </tr>\n",
       "    <tr>\n",
       "      <th>2019-01-01 00:00:00</th>\n",
       "      <td>LABOULAYE</td>\n",
       "      <td>23.7</td>\n",
       "    </tr>\n",
       "    <tr>\n",
       "      <th>2019-01-01 00:00:00</th>\n",
       "      <td>MARCOS JUAREZ</td>\n",
       "      <td>23.7</td>\n",
       "    </tr>\n",
       "    <tr>\n",
       "      <th>2019-01-01 00:00:00</th>\n",
       "      <td>PILAR OBS.</td>\n",
       "      <td>26.3</td>\n",
       "    </tr>\n",
       "    <tr>\n",
       "      <th>...</th>\n",
       "      <td>...</td>\n",
       "      <td>...</td>\n",
       "    </tr>\n",
       "    <tr>\n",
       "      <th>2020-08-28 11:00:00</th>\n",
       "      <td>LABOULAYE</td>\n",
       "      <td>15.9</td>\n",
       "    </tr>\n",
       "    <tr>\n",
       "      <th>2020-08-28 11:00:00</th>\n",
       "      <td>MARCOS JUAREZ</td>\n",
       "      <td>16.3</td>\n",
       "    </tr>\n",
       "    <tr>\n",
       "      <th>2020-08-28 11:00:00</th>\n",
       "      <td>PILAR OBS.</td>\n",
       "      <td>17.4</td>\n",
       "    </tr>\n",
       "    <tr>\n",
       "      <th>2020-08-28 11:00:00</th>\n",
       "      <td>RIO CUARTO</td>\n",
       "      <td>17.6</td>\n",
       "    </tr>\n",
       "    <tr>\n",
       "      <th>2020-08-28 11:00:00</th>\n",
       "      <td>VILLA DOLORES</td>\n",
       "      <td>17.0</td>\n",
       "    </tr>\n",
       "  </tbody>\n",
       "</table>\n",
       "<p>97068 rows × 2 columns</p>\n",
       "</div>"
      ],
      "text/plain": [
       "                          Estacion  Temp\n",
       "date                                    \n",
       "2019-01-01 00:00:00        CORDOBA  23.7\n",
       "2019-01-01 00:00:00    CORDOBA OBS  26.8\n",
       "2019-01-01 00:00:00      LABOULAYE  23.7\n",
       "2019-01-01 00:00:00  MARCOS JUAREZ  23.7\n",
       "2019-01-01 00:00:00     PILAR OBS.  26.3\n",
       "...                            ...   ...\n",
       "2020-08-28 11:00:00      LABOULAYE  15.9\n",
       "2020-08-28 11:00:00  MARCOS JUAREZ  16.3\n",
       "2020-08-28 11:00:00     PILAR OBS.  17.4\n",
       "2020-08-28 11:00:00     RIO CUARTO  17.6\n",
       "2020-08-28 11:00:00  VILLA DOLORES  17.0\n",
       "\n",
       "[97068 rows x 2 columns]"
      ]
     },
     "execution_count": 33,
     "metadata": {},
     "output_type": "execute_result"
    }
   ],
   "source": [
    "epecAWS"
   ]
  },
  {
   "cell_type": "code",
   "execution_count": null,
   "metadata": {},
   "outputs": [],
   "source": [
    "\n"
   ]
  },
  {
   "cell_type": "code",
   "execution_count": null,
   "metadata": {},
   "outputs": [],
   "source": []
  },
  {
   "cell_type": "code",
   "execution_count": 39,
   "metadata": {},
   "outputs": [
    {
     "data": {
      "text/plain": [
       "{'CORDOBA',\n",
       " 'CORDOBA OBS',\n",
       " 'LABOULAYE',\n",
       " 'MARCOS JUAREZ',\n",
       " 'PILAR OBS.',\n",
       " 'RIO CUARTO',\n",
       " 'VILLA DOLORES',\n",
       " 'VILLA MARIA DEL RIO SECO',\n",
       " nan}"
      ]
     },
     "execution_count": 39,
     "metadata": {},
     "output_type": "execute_result"
    }
   ],
   "source": [
    "set(epecAWS['Estacion'].tolist())"
   ]
  },
  {
   "cell_type": "code",
   "execution_count": null,
   "metadata": {},
   "outputs": [],
   "source": []
  },
  {
   "cell_type": "code",
   "execution_count": 36,
   "metadata": {},
   "outputs": [],
   "source": [
    "emas = set(epecAWS['Estacion'].tolist())"
   ]
  },
  {
   "cell_type": "code",
   "execution_count": 47,
   "metadata": {},
   "outputs": [],
   "source": [
    "for ema in emas:\n",
    "    if pd.notnull(ema):\n",
    "        temp = epecAWS.loc[epecAWS['Estacion'] == ema]\n",
    "        temp.to_pickle(f\"../pickles/{ema}_aws.pkl\")"
   ]
  },
  {
   "cell_type": "code",
   "execution_count": null,
   "metadata": {},
   "outputs": [],
   "source": []
  },
  {
   "cell_type": "code",
   "execution_count": 35,
   "metadata": {},
   "outputs": [
    {
     "data": {
      "text/html": [
       "<div>\n",
       "<style scoped>\n",
       "    .dataframe tbody tr th:only-of-type {\n",
       "        vertical-align: middle;\n",
       "    }\n",
       "\n",
       "    .dataframe tbody tr th {\n",
       "        vertical-align: top;\n",
       "    }\n",
       "\n",
       "    .dataframe thead th {\n",
       "        text-align: right;\n",
       "    }\n",
       "</style>\n",
       "<table border=\"1\" class=\"dataframe\">\n",
       "  <thead>\n",
       "    <tr style=\"text-align: right;\">\n",
       "      <th></th>\n",
       "      <th>Estacion</th>\n",
       "      <th>Temp</th>\n",
       "    </tr>\n",
       "    <tr>\n",
       "      <th>date</th>\n",
       "      <th></th>\n",
       "      <th></th>\n",
       "    </tr>\n",
       "  </thead>\n",
       "  <tbody>\n",
       "    <tr>\n",
       "      <th>2019-01-01 00:00:00</th>\n",
       "      <td>CORDOBA OBS</td>\n",
       "      <td>26.8</td>\n",
       "    </tr>\n",
       "    <tr>\n",
       "      <th>2019-01-01 01:00:00</th>\n",
       "      <td>CORDOBA OBS</td>\n",
       "      <td>26.2</td>\n",
       "    </tr>\n",
       "    <tr>\n",
       "      <th>2019-01-01 02:00:00</th>\n",
       "      <td>CORDOBA OBS</td>\n",
       "      <td>25.4</td>\n",
       "    </tr>\n",
       "    <tr>\n",
       "      <th>2019-01-01 03:00:00</th>\n",
       "      <td>CORDOBA OBS</td>\n",
       "      <td>25.2</td>\n",
       "    </tr>\n",
       "    <tr>\n",
       "      <th>2019-01-01 04:00:00</th>\n",
       "      <td>CORDOBA OBS</td>\n",
       "      <td>24.6</td>\n",
       "    </tr>\n",
       "    <tr>\n",
       "      <th>...</th>\n",
       "      <td>...</td>\n",
       "      <td>...</td>\n",
       "    </tr>\n",
       "    <tr>\n",
       "      <th>2020-08-28 07:00:00</th>\n",
       "      <td>CORDOBA OBS</td>\n",
       "      <td>5.7</td>\n",
       "    </tr>\n",
       "    <tr>\n",
       "      <th>2020-08-28 08:00:00</th>\n",
       "      <td>CORDOBA OBS</td>\n",
       "      <td>5.2</td>\n",
       "    </tr>\n",
       "    <tr>\n",
       "      <th>2020-08-28 09:00:00</th>\n",
       "      <td>CORDOBA OBS</td>\n",
       "      <td>8.5</td>\n",
       "    </tr>\n",
       "    <tr>\n",
       "      <th>2020-08-28 10:00:00</th>\n",
       "      <td>CORDOBA OBS</td>\n",
       "      <td>13.8</td>\n",
       "    </tr>\n",
       "    <tr>\n",
       "      <th>2020-08-28 11:00:00</th>\n",
       "      <td>CORDOBA OBS</td>\n",
       "      <td>17.0</td>\n",
       "    </tr>\n",
       "  </tbody>\n",
       "</table>\n",
       "<p>14411 rows × 2 columns</p>\n",
       "</div>"
      ],
      "text/plain": [
       "                        Estacion  Temp\n",
       "date                                  \n",
       "2019-01-01 00:00:00  CORDOBA OBS  26.8\n",
       "2019-01-01 01:00:00  CORDOBA OBS  26.2\n",
       "2019-01-01 02:00:00  CORDOBA OBS  25.4\n",
       "2019-01-01 03:00:00  CORDOBA OBS  25.2\n",
       "2019-01-01 04:00:00  CORDOBA OBS  24.6\n",
       "...                          ...   ...\n",
       "2020-08-28 07:00:00  CORDOBA OBS   5.7\n",
       "2020-08-28 08:00:00  CORDOBA OBS   5.2\n",
       "2020-08-28 09:00:00  CORDOBA OBS   8.5\n",
       "2020-08-28 10:00:00  CORDOBA OBS  13.8\n",
       "2020-08-28 11:00:00  CORDOBA OBS  17.0\n",
       "\n",
       "[14411 rows x 2 columns]"
      ]
     },
     "execution_count": 35,
     "metadata": {},
     "output_type": "execute_result"
    }
   ],
   "source": [
    "epecAWS.loc[epecAWS['Estacion'] == 'CORDOBA OBS']"
   ]
  },
  {
   "cell_type": "code",
   "execution_count": null,
   "metadata": {},
   "outputs": [],
   "source": []
  },
  {
   "cell_type": "code",
   "execution_count": null,
   "metadata": {},
   "outputs": [],
   "source": []
  },
  {
   "cell_type": "code",
   "execution_count": null,
   "metadata": {},
   "outputs": [],
   "source": []
  },
  {
   "cell_type": "code",
   "execution_count": null,
   "metadata": {},
   "outputs": [],
   "source": []
  },
  {
   "cell_type": "code",
   "execution_count": null,
   "metadata": {},
   "outputs": [],
   "source": []
  },
  {
   "cell_type": "code",
   "execution_count": 12,
   "metadata": {},
   "outputs": [],
   "source": []
  },
  {
   "cell_type": "code",
   "execution_count": null,
   "metadata": {},
   "outputs": [],
   "source": []
  },
  {
   "cell_type": "code",
   "execution_count": null,
   "metadata": {},
   "outputs": [],
   "source": []
  },
  {
   "cell_type": "code",
   "execution_count": null,
   "metadata": {},
   "outputs": [],
   "source": []
  },
  {
   "cell_type": "code",
   "execution_count": null,
   "metadata": {},
   "outputs": [],
   "source": []
  },
  {
   "cell_type": "code",
   "execution_count": null,
   "metadata": {},
   "outputs": [],
   "source": []
  }
 ],
 "metadata": {
  "kernelspec": {
   "display_name": "Python 3",
   "language": "python",
   "name": "python3"
  },
  "language_info": {
   "codemirror_mode": {
    "name": "ipython",
    "version": 3
   },
   "file_extension": ".py",
   "mimetype": "text/x-python",
   "name": "python",
   "nbconvert_exporter": "python",
   "pygments_lexer": "ipython3",
   "version": "3.8.5"
  }
 },
 "nbformat": 4,
 "nbformat_minor": 4
}
